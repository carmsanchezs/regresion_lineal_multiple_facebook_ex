{
  "nbformat": 4,
  "nbformat_minor": 0,
  "metadata": {
    "colab": {
      "name": "Regresion_lineal_multiple_facebook_likes.ipynb",
      "provenance": [],
      "authorship_tag": "ABX9TyOPdm6WiqBIE9fzW55+m8DI",
      "include_colab_link": true
    },
    "kernelspec": {
      "name": "python3",
      "display_name": "Python 3"
    },
    "language_info": {
      "name": "python"
    }
  },
  "cells": [
    {
      "cell_type": "markdown",
      "metadata": {
        "id": "view-in-github",
        "colab_type": "text"
      },
      "source": [
        "<a href=\"https://colab.research.google.com/github/carmsanchezs/regresion_lineal_multiple_facebook_ex/blob/main/Regresion_lineal_multiple_facebook_likes.ipynb\" target=\"_parent\"><img src=\"https://colab.research.google.com/assets/colab-badge.svg\" alt=\"Open In Colab\"/></a>"
      ]
    },
    {
      "cell_type": "markdown",
      "metadata": {
        "id": "gbMsuC-YbcbF"
      },
      "source": [
        "# **Ejemplo de regresión Lineal multiple**\n",
        "\n",
        "Ejemplo basado en el siguiente video:\n",
        "\n",
        "[Regresión Lineal Múltiple | SciKitLearn | Machine Learning| Python | ¡Muy básico!\n",
        "](https://youtu.be/y3eC8uboZds)\n",
        "\n",
        "Donde también dan esta información para el obtener el **dataset**\n",
        "\n",
        "✔Artículo sobre información de Facebook:\n",
        "[http://bit.ly/FBpaperAlgo](http://bit.ly/FBpaperAlgo)\n",
        "\n",
        "✔ Base de datos del artículo de Facebook:\n",
        "[http://bit.ly/hackathonAlgo](http://bit.ly/hackathonAlgo)"
      ]
    },
    {
      "cell_type": "code",
      "metadata": {
        "id": "r7cZ2eDQ4FfC"
      },
      "source": [
        "# Importando librerias\n",
        "import pandas as pd\n",
        "import numpy as np\n",
        "import matplotlib.pyplot as plt\n",
        "import seaborn as sns\n",
        "\n",
        "from sklearn.linear_model import LinearRegression\n",
        "from sklearn.metrics import mean_squared_error"
      ],
      "execution_count": null,
      "outputs": []
    },
    {
      "cell_type": "code",
      "metadata": {
        "id": "q39xF63tbvX8"
      },
      "source": [
        "# Estílo de las gráficas\n",
        "sns.set_style('darkgrid')"
      ],
      "execution_count": null,
      "outputs": []
    },
    {
      "cell_type": "markdown",
      "metadata": {
        "id": "eDmCHMwYQ8dV"
      },
      "source": [
        "# Análizando la información"
      ]
    },
    {
      "cell_type": "code",
      "metadata": {
        "id": "GKekCbz75abT"
      },
      "source": [
        "# Carga de datos\n",
        "df = pd.read_csv('dataset/dataset_Facebook.csv')"
      ],
      "execution_count": null,
      "outputs": []
    },
    {
      "cell_type": "code",
      "metadata": {
        "colab": {
          "base_uri": "https://localhost:8080/"
        },
        "id": "1Yp8brDX79OW",
        "outputId": "c47352a5-8d7a-499b-dba2-318f6559e9ec"
      },
      "source": [
        "# Interpretación\n",
        "# 500 registros\n",
        "# 19 columnas\n",
        "# con tipos de datos, int65, float64 y object\n",
        "# las columnas: Paid, like y share tienen datos nulos\n",
        "df.info()"
      ],
      "execution_count": null,
      "outputs": [
        {
          "output_type": "stream",
          "text": [
            "<class 'pandas.core.frame.DataFrame'>\n",
            "RangeIndex: 500 entries, 0 to 499\n",
            "Data columns (total 19 columns):\n",
            " #   Column                                                               Non-Null Count  Dtype  \n",
            "---  ------                                                               --------------  -----  \n",
            " 0   Page total likes                                                     500 non-null    int64  \n",
            " 1   Type                                                                 500 non-null    object \n",
            " 2   Category                                                             500 non-null    int64  \n",
            " 3   Post Month                                                           500 non-null    int64  \n",
            " 4   Post Weekday                                                         500 non-null    int64  \n",
            " 5   Post Hour                                                            500 non-null    int64  \n",
            " 6   Paid                                                                 499 non-null    float64\n",
            " 7   Lifetime Post Total Reach                                            500 non-null    int64  \n",
            " 8   Lifetime Post Total Impressions                                      500 non-null    int64  \n",
            " 9   Lifetime Engaged Users                                               500 non-null    int64  \n",
            " 10  Lifetime Post Consumers                                              500 non-null    int64  \n",
            " 11  Lifetime Post Consumptions                                           500 non-null    int64  \n",
            " 12  Lifetime Post Impressions by people who have liked your Page         500 non-null    int64  \n",
            " 13  Lifetime Post reach by people who like your Page                     500 non-null    int64  \n",
            " 14  Lifetime People who have liked your Page and engaged with your post  500 non-null    int64  \n",
            " 15  comment                                                              500 non-null    int64  \n",
            " 16  like                                                                 499 non-null    float64\n",
            " 17  share                                                                496 non-null    float64\n",
            " 18  Total Interactions                                                   500 non-null    int64  \n",
            "dtypes: float64(3), int64(15), object(1)\n",
            "memory usage: 74.3+ KB\n"
          ],
          "name": "stdout"
        }
      ]
    },
    {
      "cell_type": "markdown",
      "metadata": {
        "id": "FzX6by0gUq9X"
      },
      "source": [
        "## Investigando la correlación\n",
        "\n",
        "Vemos que la existe una relación lineal entre **Interations** y **likes**\n",
        "\n",
        "1.   Por los valores de correlación\n",
        "2.   Por las graficas\n",
        "\n"
      ]
    },
    {
      "cell_type": "code",
      "metadata": {
        "id": "Uyfq1NsjzKgs",
        "colab": {
          "base_uri": "https://localhost:8080/",
          "height": 258
        },
        "outputId": "2e032d96-2ed6-45b9-b500-75337ca1ee99"
      },
      "source": [
        "# Renombrando columnas\n",
        "dataset = df[['Total Interactions','Post Weekday', 'like', 'Post Hour']]\n",
        "dataset.rename(columns={\n",
        "    'Total Interactions': 'interactions', \n",
        "    'Post Weekday': 'days',\n",
        "    'like': 'likes',\n",
        "    'Post Hour':'hour'}, inplace=True)\n",
        "# Determinando correlación entre las columnas\n",
        "dataset.corr()"
      ],
      "execution_count": null,
      "outputs": [
        {
          "output_type": "stream",
          "text": [
            "/usr/local/lib/python3.7/dist-packages/pandas/core/frame.py:4308: SettingWithCopyWarning: \n",
            "A value is trying to be set on a copy of a slice from a DataFrame\n",
            "\n",
            "See the caveats in the documentation: https://pandas.pydata.org/pandas-docs/stable/user_guide/indexing.html#returning-a-view-versus-a-copy\n",
            "  errors=errors,\n"
          ],
          "name": "stderr"
        },
        {
          "output_type": "execute_result",
          "data": {
            "text/html": [
              "<div>\n",
              "<style scoped>\n",
              "    .dataframe tbody tr th:only-of-type {\n",
              "        vertical-align: middle;\n",
              "    }\n",
              "\n",
              "    .dataframe tbody tr th {\n",
              "        vertical-align: top;\n",
              "    }\n",
              "\n",
              "    .dataframe thead th {\n",
              "        text-align: right;\n",
              "    }\n",
              "</style>\n",
              "<table border=\"1\" class=\"dataframe\">\n",
              "  <thead>\n",
              "    <tr style=\"text-align: right;\">\n",
              "      <th></th>\n",
              "      <th>interactions</th>\n",
              "      <th>days</th>\n",
              "      <th>likes</th>\n",
              "      <th>hour</th>\n",
              "    </tr>\n",
              "  </thead>\n",
              "  <tbody>\n",
              "    <tr>\n",
              "      <th>interactions</th>\n",
              "      <td>1.000000</td>\n",
              "      <td>-0.081049</td>\n",
              "      <td>0.997705</td>\n",
              "      <td>-0.027421</td>\n",
              "    </tr>\n",
              "    <tr>\n",
              "      <th>days</th>\n",
              "      <td>-0.081049</td>\n",
              "      <td>1.000000</td>\n",
              "      <td>-0.082322</td>\n",
              "      <td>0.045857</td>\n",
              "    </tr>\n",
              "    <tr>\n",
              "      <th>likes</th>\n",
              "      <td>0.997705</td>\n",
              "      <td>-0.082322</td>\n",
              "      <td>1.000000</td>\n",
              "      <td>-0.024523</td>\n",
              "    </tr>\n",
              "    <tr>\n",
              "      <th>hour</th>\n",
              "      <td>-0.027421</td>\n",
              "      <td>0.045857</td>\n",
              "      <td>-0.024523</td>\n",
              "      <td>1.000000</td>\n",
              "    </tr>\n",
              "  </tbody>\n",
              "</table>\n",
              "</div>"
            ],
            "text/plain": [
              "              interactions      days     likes      hour\n",
              "interactions      1.000000 -0.081049  0.997705 -0.027421\n",
              "days             -0.081049  1.000000 -0.082322  0.045857\n",
              "likes             0.997705 -0.082322  1.000000 -0.024523\n",
              "hour             -0.027421  0.045857 -0.024523  1.000000"
            ]
          },
          "metadata": {
            "tags": []
          },
          "execution_count": 91
        }
      ]
    },
    {
      "cell_type": "code",
      "metadata": {
        "colab": {
          "base_uri": "https://localhost:8080/",
          "height": 286
        },
        "id": "B9kunPWX0vnp",
        "outputId": "a5a1acf8-b7ea-4035-bfe4-d236b8de2eeb"
      },
      "source": [
        "# graficando correlación entre variables\n",
        "# la correlación permite, a través de un valor numérico, saber la relación entre dos variables\n",
        "# Interpretación: Tenemos una relación directa entre \"interactions\" vs \"likes\"\n",
        "sns.heatmap(dataset.corr(), annot=True, linewidths=2)"
      ],
      "execution_count": null,
      "outputs": [
        {
          "output_type": "execute_result",
          "data": {
            "text/plain": [
              "<matplotlib.axes._subplots.AxesSubplot at 0x7f4a1c212590>"
            ]
          },
          "metadata": {
            "tags": []
          },
          "execution_count": 92
        },
        {
          "output_type": "display_data",
          "data": {
            "image/png": "[encoded data removed]",
            "text/plain": [
              "<Figure size 432x288 with 2 Axes>"
            ]
          },
          "metadata": {
            "tags": []
          }
        }
      ]
    },
    {
      "cell_type": "code",
      "metadata": {
        "colab": {
          "base_uri": "https://localhost:8080/",
          "height": 565
        },
        "id": "p0hoYOe31fDb",
        "outputId": "14cd6849-201f-4272-f885-ce22d63ab790"
      },
      "source": [
        "# Graficando la relación entre las variables con diagramas de dispersión\n",
        "# el día 1 es domingo y la semana termina con el día 7 que es sábado\n",
        "# interpretación: \n",
        "# \"hour\" vs \"likes\", se observa mayor cantidad de likes los días martes y miércoles y una menos con respecto a sábados.\n",
        "# \"interaction\" vs \"likes\" se observa que hay el comportamiento es similar a una línea recta.\n",
        "# y que el sábado no es una muy buen día para publicar.\n",
        "g = sns.pairplot(dataset, hue='days', diag_kind='reg', palette='tab10')\n",
        "for ax in g.axes.flat:\n",
        "  plt.setp(ax.get_xticklabels(), rotation=45)"
      ],
      "execution_count": null,
      "outputs": [
        {
          "output_type": "display_data",
          "data": {
            "image/png": "[encoded data removed]",
            "text/plain": [
              "<Figure size 582.375x540 with 9 Axes>"
            ]
          },
          "metadata": {
            "tags": []
          }
        }
      ]
    },
    {
      "cell_type": "markdown",
      "metadata": {
        "id": "Q1zObTKYM6Ms"
      },
      "source": [
        "# Modelo de regresión lineal\n",
        "$ y = B_{0} x_{0} + B_{1} x_{1} + B_{2} x_{2}$\n",
        "\n",
        "## Módelo **propuesto**\n",
        "$ likes = B_{0} hora + B_{1} dia + B_{2} interaccion$"
      ]
    },
    {
      "cell_type": "code",
      "metadata": {
        "id": "4GgKt_6P5Nyx"
      },
      "source": [
        "# se remplazan los nan por 0\n",
        "dataset = dataset.replace(np.nan, 0)"
      ],
      "execution_count": null,
      "outputs": []
    },
    {
      "cell_type": "code",
      "metadata": {
        "colab": {
          "base_uri": "https://localhost:8080/",
          "height": 419
        },
        "id": "3CGgZ567gUnL",
        "outputId": "827f4e6f-cdcb-44be-db09-1d7db1a2f995"
      },
      "source": [
        "# Definiendo el la matriz de variables independientes\n",
        "X = dataset[['hour','days','interactions']]\n",
        "X"
      ],
      "execution_count": null,
      "outputs": [
        {
          "output_type": "execute_result",
          "data": {
            "text/html": [
              "<div>\n",
              "<style scoped>\n",
              "    .dataframe tbody tr th:only-of-type {\n",
              "        vertical-align: middle;\n",
              "    }\n",
              "\n",
              "    .dataframe tbody tr th {\n",
              "        vertical-align: top;\n",
              "    }\n",
              "\n",
              "    .dataframe thead th {\n",
              "        text-align: right;\n",
              "    }\n",
              "</style>\n",
              "<table border=\"1\" class=\"dataframe\">\n",
              "  <thead>\n",
              "    <tr style=\"text-align: right;\">\n",
              "      <th></th>\n",
              "      <th>hour</th>\n",
              "      <th>days</th>\n",
              "      <th>interactions</th>\n",
              "    </tr>\n",
              "  </thead>\n",
              "  <tbody>\n",
              "    <tr>\n",
              "      <th>0</th>\n",
              "      <td>3</td>\n",
              "      <td>4</td>\n",
              "      <td>100</td>\n",
              "    </tr>\n",
              "    <tr>\n",
              "      <th>1</th>\n",
              "      <td>10</td>\n",
              "      <td>3</td>\n",
              "      <td>164</td>\n",
              "    </tr>\n",
              "    <tr>\n",
              "      <th>2</th>\n",
              "      <td>3</td>\n",
              "      <td>3</td>\n",
              "      <td>80</td>\n",
              "    </tr>\n",
              "    <tr>\n",
              "      <th>3</th>\n",
              "      <td>10</td>\n",
              "      <td>2</td>\n",
              "      <td>1777</td>\n",
              "    </tr>\n",
              "    <tr>\n",
              "      <th>4</th>\n",
              "      <td>3</td>\n",
              "      <td>2</td>\n",
              "      <td>393</td>\n",
              "    </tr>\n",
              "    <tr>\n",
              "      <th>...</th>\n",
              "      <td>...</td>\n",
              "      <td>...</td>\n",
              "      <td>...</td>\n",
              "    </tr>\n",
              "    <tr>\n",
              "      <th>495</th>\n",
              "      <td>2</td>\n",
              "      <td>7</td>\n",
              "      <td>84</td>\n",
              "    </tr>\n",
              "    <tr>\n",
              "      <th>496</th>\n",
              "      <td>8</td>\n",
              "      <td>5</td>\n",
              "      <td>75</td>\n",
              "    </tr>\n",
              "    <tr>\n",
              "      <th>497</th>\n",
              "      <td>2</td>\n",
              "      <td>5</td>\n",
              "      <td>115</td>\n",
              "    </tr>\n",
              "    <tr>\n",
              "      <th>498</th>\n",
              "      <td>11</td>\n",
              "      <td>4</td>\n",
              "      <td>136</td>\n",
              "    </tr>\n",
              "    <tr>\n",
              "      <th>499</th>\n",
              "      <td>4</td>\n",
              "      <td>4</td>\n",
              "      <td>119</td>\n",
              "    </tr>\n",
              "  </tbody>\n",
              "</table>\n",
              "<p>500 rows × 3 columns</p>\n",
              "</div>"
            ],
            "text/plain": [
              "     hour  days  interactions\n",
              "0       3     4           100\n",
              "1      10     3           164\n",
              "2       3     3            80\n",
              "3      10     2          1777\n",
              "4       3     2           393\n",
              "..    ...   ...           ...\n",
              "495     2     7            84\n",
              "496     8     5            75\n",
              "497     2     5           115\n",
              "498    11     4           136\n",
              "499     4     4           119\n",
              "\n",
              "[500 rows x 3 columns]"
            ]
          },
          "metadata": {
            "tags": []
          },
          "execution_count": 95
        }
      ]
    },
    {
      "cell_type": "code",
      "metadata": {
        "id": "DJoiM0mG-LTS",
        "colab": {
          "base_uri": "https://localhost:8080/"
        },
        "outputId": "9429f030-86bc-4122-8a24-2e8a28e237d6"
      },
      "source": [
        "# Definiendo el arreglo de la variable dependiente\n",
        "Y = dataset['likes']\n",
        "Y"
      ],
      "execution_count": null,
      "outputs": [
        {
          "output_type": "execute_result",
          "data": {
            "text/plain": [
              "0        79.0\n",
              "1       130.0\n",
              "2        66.0\n",
              "3      1572.0\n",
              "4       325.0\n",
              "        ...  \n",
              "495      53.0\n",
              "496      53.0\n",
              "497      93.0\n",
              "498      91.0\n",
              "499      91.0\n",
              "Name: likes, Length: 500, dtype: float64"
            ]
          },
          "metadata": {
            "tags": []
          },
          "execution_count": 96
        }
      ]
    },
    {
      "cell_type": "code",
      "metadata": {
        "colab": {
          "base_uri": "https://localhost:8080/"
        },
        "id": "aTz4JIqcZNmh",
        "outputId": "ef0090f4-ac74-46a5-f7ea-8af4961fa728"
      },
      "source": [
        "# Calculando la regresión lineal multiple\n",
        "reg = LinearRegression()\n",
        "reg = reg.fit(X,Y)\n",
        "Y_pred = reg.predict(X)\n",
        "# Determinado el error\n",
        "error = np.sqrt(mean_squared_error(Y, Y_pred))\n",
        "# Determinando el error cuadrático, entre más cercano a 1 el valor de la correlación es mejor.\n",
        "r2 = reg.score(X, Y)\n",
        "\n",
        "print(\"El error es: {}\".format(error))\n",
        "print(\"El error de r2 es: {}\".format(r2))\n",
        "print(\"Los coeficientes son: {}\".format(reg.coef_))\n"
      ],
      "execution_count": null,
      "outputs": [
        {
          "output_type": "stream",
          "text": [
            "El error es: 21.81953867915251\n",
            "El error de r2 es: 0.9954323615919498\n",
            "Los coeficientes son: [ 0.21551007 -0.40017767  0.84787796]\n"
          ],
          "name": "stdout"
        }
      ]
    },
    {
      "cell_type": "code",
      "metadata": {
        "colab": {
          "base_uri": "https://localhost:8080/"
        },
        "id": "8MtHk7MEauuB",
        "outputId": "12cb3d27-f48f-4e02-884b-a11244c2dfa8"
      },
      "source": [
        "# Ejemplo de predicción\n",
        "hour = 17\n",
        "days = 1\n",
        "interactions = 150\n",
        "print(\"Likes de predicción: {}\".format(reg.predict(\n",
        "    [[hour, days, interactions]]\n",
        ")))"
      ],
      "execution_count": null,
      "outputs": [
        {
          "output_type": "stream",
          "text": [
            "Likes de predicción: [128.15445304]\n"
          ],
          "name": "stdout"
        }
      ]
    },
    {
      "cell_type": "code",
      "metadata": {
        "colab": {
          "base_uri": "https://localhost:8080/",
          "height": 111
        },
        "id": "2Rd65a8lb1bM",
        "outputId": "cbbd94dc-7894-4679-a650-f358b78323a1"
      },
      "source": [
        "# comparando con los datos reales\n",
        "dataset.query('interactions >= 148 and interactions <= 152 and hour > 10').sort_values('interactions')"
      ],
      "execution_count": null,
      "outputs": [
        {
          "output_type": "execute_result",
          "data": {
            "text/html": [
              "<div>\n",
              "<style scoped>\n",
              "    .dataframe tbody tr th:only-of-type {\n",
              "        vertical-align: middle;\n",
              "    }\n",
              "\n",
              "    .dataframe tbody tr th {\n",
              "        vertical-align: top;\n",
              "    }\n",
              "\n",
              "    .dataframe thead th {\n",
              "        text-align: right;\n",
              "    }\n",
              "</style>\n",
              "<table border=\"1\" class=\"dataframe\">\n",
              "  <thead>\n",
              "    <tr style=\"text-align: right;\">\n",
              "      <th></th>\n",
              "      <th>interactions</th>\n",
              "      <th>days</th>\n",
              "      <th>likes</th>\n",
              "      <th>hour</th>\n",
              "    </tr>\n",
              "  </thead>\n",
              "  <tbody>\n",
              "    <tr>\n",
              "      <th>275</th>\n",
              "      <td>148</td>\n",
              "      <td>3</td>\n",
              "      <td>98.0</td>\n",
              "      <td>13</td>\n",
              "    </tr>\n",
              "    <tr>\n",
              "      <th>284</th>\n",
              "      <td>152</td>\n",
              "      <td>6</td>\n",
              "      <td>129.0</td>\n",
              "      <td>12</td>\n",
              "    </tr>\n",
              "  </tbody>\n",
              "</table>\n",
              "</div>"
            ],
            "text/plain": [
              "     interactions  days  likes  hour\n",
              "275           148     3   98.0    13\n",
              "284           152     6  129.0    12"
            ]
          },
          "metadata": {
            "tags": []
          },
          "execution_count": 99
        }
      ]
    }
  ]
}